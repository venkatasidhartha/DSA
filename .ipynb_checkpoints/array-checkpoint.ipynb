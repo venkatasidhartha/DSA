{
 "cells": [
  {
   "cell_type": "code",
   "execution_count": 1,
   "id": "0d05068e-496b-4539-b590-4c7898c8b4b2",
   "metadata": {},
   "outputs": [
    {
     "name": "stdout",
     "output_type": "stream",
     "text": [
      "array('i')\n",
      "array('i', [1, 2, 3, 4])\n"
     ]
    }
   ],
   "source": [
    "import array\n",
    "\n",
    "my_array = array.array('i') # -> O(1)\n",
    "print(my_array)\n",
    "my_array1 = array.array('i',[1,2,3,4]) # -> O(N)\n",
    "print(my_array1)"
   ]
  },
  {
   "cell_type": "raw",
   "id": "75516a6d-2f73-4711-a8e3-6f84b87669b6",
   "metadata": {},
   "source": [
    "Array module is build in lib in the python "
   ]
  },
  {
   "cell_type": "code",
   "execution_count": 2,
   "id": "d979bb6f-27c2-46d6-a66f-a9be980e7d3c",
   "metadata": {},
   "outputs": [
    {
     "name": "stdout",
     "output_type": "stream",
     "text": [
      "[]\n",
      "[1 2 3 4]\n"
     ]
    }
   ],
   "source": [
    "import numpy as np\n",
    "\n",
    "np_array = np.array([],dtype=int) # -> O(1)\n",
    "print(np_array)\n",
    "np_array1 = np.array([1,2,3,4]) # -> O(N)\n",
    "print(np_array1)"
   ]
  },
  {
   "cell_type": "raw",
   "id": "63737086-e1b9-4e9a-8ab5-76495826bb56",
   "metadata": {},
   "source": [
    "This Array function is in Numpy "
   ]
  },
  {
   "cell_type": "raw",
   "id": "a3e5658f-20ab-4575-a265-41640544d585",
   "metadata": {},
   "source": [
    "so here the space and time complexity is Big O(N)\n",
    "when the input size increse the space and time is also incress"
   ]
  },
  {
   "cell_type": "code",
   "execution_count": 3,
   "id": "fef0368b-563c-4e3f-934d-fb51880795b4",
   "metadata": {},
   "outputs": [
    {
     "data": {
      "text/plain": [
       "array([1, 2, 3, 4])"
      ]
     },
     "execution_count": 3,
     "metadata": {},
     "output_type": "execute_result"
    }
   ],
   "source": [
    "np_array1"
   ]
  }
 ],
 "metadata": {
  "kernelspec": {
   "display_name": "Python 3 (ipykernel)",
   "language": "python",
   "name": "python3"
  },
  "language_info": {
   "codemirror_mode": {
    "name": "ipython",
    "version": 3
   },
   "file_extension": ".py",
   "mimetype": "text/x-python",
   "name": "python",
   "nbconvert_exporter": "python",
   "pygments_lexer": "ipython3",
   "version": "3.10.12"
  }
 },
 "nbformat": 4,
 "nbformat_minor": 5
}
